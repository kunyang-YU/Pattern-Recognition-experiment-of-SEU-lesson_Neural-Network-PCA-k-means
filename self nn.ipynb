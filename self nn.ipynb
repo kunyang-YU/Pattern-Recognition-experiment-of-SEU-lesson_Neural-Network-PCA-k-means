{
 "cells": [
  {
   "cell_type": "code",
   "execution_count": 1,
   "id": "f5e3eafc",
   "metadata": {},
   "outputs": [],
   "source": [
    "import numpy as np\n",
    "import pandas as pd\n",
    "import random\n",
    "def sigmoid(x):\n",
    "     return 1.0/(1.0+np.exp(-x))\n",
    "def sigmoid_prime(x):\n",
    "    return sigmoid(x)*(1-sigmoid(x))\n",
    "class Network(object):\n",
    "    \n",
    "    def __init__(self,sizes):\n",
    "        self.num_layers = len(sizes)\n",
    "        self.sizes = sizes\n",
    "        self.biases = [np.random.randn(y, 1) for y in sizes[1:]]\n",
    "        self.weights = [np.random.randn(y, x) \n",
    "                        for x, y in zip(sizes[:-1], sizes[1:])]\n",
    "    \n",
    "    def feedfoward(self,a):\n",
    "        for b,w in zip(self.biases,self.weights):\n",
    "            a=sigmoid(np.dot(w,a)+b)\n",
    "        return a\n",
    "    \n",
    "    def stochasitc(self,train_data,epoches,mini_batch_size,lr,eva_data=None):\n",
    "        if eva_data:\n",
    "            test_num=len(eva_data)\n",
    "        n=len(train_data)\n",
    "        acc=[]\n",
    "        for i in range(epoches):\n",
    "            random.shuffle(train_data)\n",
    "            mini_batches=[train_data[k:k+mini_batch_size]\n",
    "                          for k in range(0,n,mini_batch_size)]\n",
    "            for each_batch in mini_batches:\n",
    "                self.updateGD(each_batch,lr)\n",
    "            if eva_data:\n",
    "                print (\"Epoch {0}: {1} / {2}\".format(\n",
    "                    i, self.evaluate(eva_data), test_num))\n",
    "            else:\n",
    "                print (\"Epoch {0} complete\".format(i))\n",
    "            \n",
    "    def updateGD(self,batch,lr):\n",
    "        '''update w and b by using GD method'''\n",
    "        delta_w=[np.zeros(w.shape)for w in self.weights]\n",
    "        delta_b=[np.zeros(b.shape)for b in self.biases]\n",
    "        for x,y in batch:\n",
    "            change_w,change_b=self.bp_my(x,y)\n",
    "            delta_b=[nb+dnb for nb, dnb in zip(delta_b, change_b)]\n",
    "            delta_w=[nw+dnw for nw, dnw in zip(delta_w, change_w)]\n",
    "        self.weights=[w-(lr/len(batch))*nw for w,nw in zip(self.weights,delta_w)]\n",
    "        self.biases=[b-(lr/len(batch))*nb for b, nb in zip(self.biases,delta_b)]\n",
    "    \n",
    "    def bp_my(self,x,y):\n",
    "        '''cal the GD of loss function, x y are train data in batch'''\n",
    "        GD_b=[np.zeros(b.shape)for b in self.biases]\n",
    "        GD_w=[np.zeros(w.shape)for w in self.weights]\n",
    "        activation=x\n",
    "        activations=[x]\n",
    "        net=[]#linear combination for each layer output\n",
    "        for b,w in zip(self.biases,self.weights):\n",
    "            z=np.dot(w,activation)+b\n",
    "            net.append(z)\n",
    "            activation=sigmoid(z)\n",
    "            activations.append(activation)\n",
    "        #backward\n",
    "        delta=self.derivative_Cx(activations[-1],y)* sigmoid_prime(net[-1])\n",
    "        GD_b[-1]=delta\n",
    "        GD_w[-1]=np.dot(delta,activations[-2].transpose())\n",
    "        for l in range(2,self.num_layers):\n",
    "            de_sigmoid=sigmoid_prime(net[-l])\n",
    "            delta=np.dot(self.weights[-l+1].transpose(),delta)*de_sigmoid\n",
    "            GD_b[-l]=delta\n",
    "            GD_w[-l]=np.dot(delta,activations[-l-1].transpose())\n",
    "        return (GD_w,GD_b)\n",
    "    \n",
    "    def derivative_Cx(self,output,y):\n",
    "        return (output-y)\n",
    "    \n",
    "    def evaluate(self, test_data):\n",
    "        \"\"\"Return the number of test inputs for which the neural\n",
    "        network outputs the correct result. Note that the neural\n",
    "        network's output is assumed to be the index of whichever\n",
    "        neuron in the final layer has the highest activation.\"\"\"\n",
    "        test_results = [(np.argmax(self.feedfoward(x)), y)\n",
    "                        for (x, y) in test_data]\n",
    "        return sum(int(x == y) for (x, y) in test_results)\n",
    "    "
   ]
  },
  {
   "cell_type": "code",
   "execution_count": 2,
   "id": "a6c86ffa",
   "metadata": {},
   "outputs": [],
   "source": [
    "\"\"\"\n",
    "mnist_loader\n",
    "~~~~~~~~~~~~\n",
    "A library to load the MNIST image data.  For details of the data\n",
    "structures that are returned, see the doc strings for ``load_data``\n",
    "and ``load_data_wrapper``.  In practice, ``load_data_wrapper`` is the\n",
    "function usually called by our neural network code.\n",
    "\"\"\"\n",
    "\n",
    "#### Libraries\n",
    "# Standard library\n",
    "import _pickle as cPickle\n",
    "import gzip\n",
    "\n",
    "# Third-party libraries\n",
    "import numpy as np\n",
    "\n",
    "def load_data():\n",
    "    \"\"\"Return the MNIST data as a tuple containing the training data,\n",
    "    the validation data, and the test data.\n",
    "    The ``training_data`` is returned as a tuple with two entries.\n",
    "    The first entry contains the actual training images.  This is a\n",
    "    numpy ndarray with 50,000 entries.  Each entry is, in turn, a\n",
    "    numpy ndarray with 784 values, representing the 28 * 28 = 784\n",
    "    pixels in a single MNIST image.\n",
    "    The second entry in the ``training_data`` tuple is a numpy ndarray\n",
    "    containing 50,000 entries.  Those entries are just the digit\n",
    "    values (0...9) for the corresponding images contained in the first\n",
    "    entry of the tuple.\n",
    "    The ``validation_data`` and ``test_data`` are similar, except\n",
    "    each contains only 10,000 images.\n",
    "    This is a nice data format, but for use in neural networks it's\n",
    "    helpful to modify the format of the ``training_data`` a little.\n",
    "    That's done in the wrapper function ``load_data_wrapper()``, see\n",
    "    below.\n",
    "    \"\"\"\n",
    "    f = gzip.open('./data/mnist.pkl.gz', 'rb')\n",
    "    training_data, validation_data, test_data = cPickle.load(f,encoding='bytes')\n",
    "    f.close()\n",
    "    return (training_data, validation_data, test_data)\n",
    "\n",
    "def load_data_wrapper():\n",
    "    \"\"\"Return a tuple containing ``(training_data, validation_data,\n",
    "    test_data)``. Based on ``load_data``, but the format is more\n",
    "    convenient for use in our implementation of neural networks.\n",
    "    In particular, ``training_data`` is a list containing 50,000\n",
    "    2-tuples ``(x, y)``.  ``x`` is a 784-dimensional numpy.ndarray\n",
    "    containing the input image.  ``y`` is a 10-dimensional\n",
    "    numpy.ndarray representing the unit vector corresponding to the\n",
    "    correct digit for ``x``.\n",
    "    ``validation_data`` and ``test_data`` are lists containing 10,000\n",
    "    2-tuples ``(x, y)``.  In each case, ``x`` is a 784-dimensional\n",
    "    numpy.ndarry containing the input image, and ``y`` is the\n",
    "    corresponding classification, i.e., the digit values (integers)\n",
    "    corresponding to ``x``.\n",
    "    Obviously, this means we're using slightly different formats for\n",
    "    the training data and the validation / test data.  These formats\n",
    "    turn out to be the most convenient for use in our neural network\n",
    "    code.\"\"\"\n",
    "    tr_d, va_d, te_d = load_data()\n",
    "    training_inputs = [np.reshape(x, (784, 1)) for x in tr_d[0]]\n",
    "    training_results = [vectorized_result(y) for y in tr_d[1]]\n",
    "    training_data = list(zip(training_inputs, training_results))\n",
    "    validation_inputs = [np.reshape(x, (784, 1)) for x in va_d[0]]\n",
    "    validation_data = list(zip(validation_inputs, va_d[1]))\n",
    "    test_inputs = [np.reshape(x, (784, 1)) for x in te_d[0]]\n",
    "    test_data = list(zip(test_inputs, te_d[1]))\n",
    "    return (training_data, validation_data, test_data)\n",
    "\n",
    "def vectorized_result(j):\n",
    "    \"\"\"Return a 10-dimensional unit vector with a 1.0 in the jth\n",
    "    position and zeroes elsewhere.  This is used to convert a digit\n",
    "    (0...9) into a corresponding desired output from the neural\n",
    "    network.\"\"\"\n",
    "    e = np.zeros((10, 1))\n",
    "    e[j] = 1.0\n",
    "    return e"
   ]
  },
  {
   "cell_type": "code",
   "execution_count": 3,
   "id": "b9c798a1",
   "metadata": {},
   "outputs": [],
   "source": [
    "training_data1, validation_data, test_data = \\\n",
    "load_data_wrapper()"
   ]
  },
  {
   "cell_type": "code",
   "execution_count": 4,
   "id": "a1c3af5a",
   "metadata": {},
   "outputs": [],
   "source": [
    "my_net=Network([784,30,10])"
   ]
  },
  {
   "cell_type": "code",
   "execution_count": 5,
   "id": "8ddb709f",
   "metadata": {},
   "outputs": [],
   "source": [
    "#load predict data\n",
    "test=pd.read_csv(\"./data./test_data.csv\",header=None)\n",
    "test=np.array(test)\n",
    "test_nor=[]\n",
    "#avoid overflow\n",
    "for i in range(len(test)):\n",
    "    sample=[]\n",
    "    for j in range(len(test[0])):\n",
    "        sample.append([test[i][j]/256.0])\n",
    "    test_nor.append(sample)\n",
    "test_nor=np.array(test_nor).astype(float)"
   ]
  },
  {
   "cell_type": "code",
   "execution_count": 6,
   "id": "f1652b9a",
   "metadata": {},
   "outputs": [
    {
     "name": "stdout",
     "output_type": "stream",
     "text": [
      "Epoch 0: 9166 / 10000\n",
      "Epoch 1: 9283 / 10000\n",
      "Epoch 2: 9350 / 10000\n",
      "Epoch 3: 9440 / 10000\n",
      "Epoch 4: 9445 / 10000\n",
      "Epoch 5: 9468 / 10000\n",
      "Epoch 6: 9493 / 10000\n",
      "Epoch 7: 9487 / 10000\n",
      "Epoch 8: 9513 / 10000\n",
      "Epoch 9: 9488 / 10000\n",
      "Epoch 10: 9498 / 10000\n",
      "Epoch 11: 9534 / 10000\n",
      "Epoch 12: 9517 / 10000\n",
      "Epoch 13: 9514 / 10000\n",
      "Epoch 14: 9522 / 10000\n"
     ]
    }
   ],
   "source": [
    "my_net.stochasitc(training_data1, 15, 10, 3.0,eva_data=validation_data)"
   ]
  },
  {
   "cell_type": "code",
   "execution_count": 7,
   "id": "f9578a21",
   "metadata": {},
   "outputs": [
    {
     "data": {
      "text/plain": [
       "10000"
      ]
     },
     "execution_count": 7,
     "metadata": {},
     "output_type": "execute_result"
    }
   ],
   "source": [
    "res=[]\n",
    "for i in range(len(test_nor)):\n",
    "    res.append(np.argmax(my_net.feedfoward(test_nor[i])))\n",
    "len(res)"
   ]
  },
  {
   "cell_type": "code",
   "execution_count": 8,
   "id": "63a76dd9",
   "metadata": {},
   "outputs": [],
   "source": [
    "def tocsv(outputs):\n",
    "    test=pd.DataFrame(data=outputs)\n",
    "    test.to_csv('./test_target.csv',index=False,header=None) "
   ]
  },
  {
   "cell_type": "code",
   "execution_count": 9,
   "id": "3a3477eb",
   "metadata": {},
   "outputs": [],
   "source": [
    "tocsv(res)"
   ]
  },
  {
   "cell_type": "code",
   "execution_count": 10,
   "id": "01de76d5",
   "metadata": {},
   "outputs": [
    {
     "data": {
      "text/plain": [
       "Text(0, 0.5, 'acc')"
      ]
     },
     "execution_count": 10,
     "metadata": {},
     "output_type": "execute_result"
    },
    {
     "data": {
      "image/png": "[encoded data removed]",
      "text/plain": [
       "<Figure size 432x288 with 1 Axes>"
      ]
     },
     "metadata": {
      "needs_background": "light"
     },
     "output_type": "display_data"
    }
   ],
   "source": [
    "acc=[0.9166,0.9283,0.9350,0.9440,0.9445,0.9486,0.9493,0.9487,0.9513,0.9488,0.9498,0.9534,0.9517,0.9514,0.9522]\n",
    "import matplotlib.pyplot as plt\n",
    "plt.scatter(range(len(acc)),acc)\n",
    "plt.xlabel(\"epoch\")\n",
    "plt.ylabel(\"acc\")"
   ]
  },
  {
   "cell_type": "code",
   "execution_count": null,
   "id": "a628cd77",
   "metadata": {},
   "outputs": [],
   "source": []
  }
 ],
 "metadata": {
  "kernelspec": {
   "display_name": "Python 3 (ipykernel)",
   "language": "python",
   "name": "python3"
  },
  "language_info": {
   "codemirror_mode": {
    "name": "ipython",
    "version": 3
   },
   "file_extension": ".py",
   "mimetype": "text/x-python",
   "name": "python",
   "nbconvert_exporter": "python",
   "pygments_lexer": "ipython3",
   "version": "3.9.7"
  }
 },
 "nbformat": 4,
 "nbformat_minor": 5
}
