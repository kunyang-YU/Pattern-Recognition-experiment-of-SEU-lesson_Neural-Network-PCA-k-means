{
 "cells": [
  {
   "cell_type": "code",
   "execution_count": 2,
   "id": "e5afccd6",
   "metadata": {},
   "outputs": [
    {
     "data": {
      "text/plain": [
       "(1599, 11)"
      ]
     },
     "execution_count": 2,
     "metadata": {},
     "output_type": "execute_result"
    }
   ],
   "source": [
    "#data load label 1 for red wine,0 for read wine \n",
    "import pandas as pd\n",
    "import numpy as np\n",
    "red_wine_data1=pd.read_csv(\"./winequality-red.csv\",sep=';')\n",
    "red_wine_data1=np.array(red_wine_data1)\n",
    "white_wine_data1=pd.read_csv(\"./winequality-white.csv\",sep=';')\n",
    "white_wine_data1=np.array(white_wine_data1)\n",
    "red_wine_label=red_wine_data1[:,11]\n",
    "red_wine_data=red_wine_data1[:,[0,1,2,3,4,5,6,7,8,9,10]]\n",
    "white_wine_label=white_wine_data1[:,11]\n",
    "white_wine_data=white_wine_data1[:,[0,1,2,3,4,5,6,7,8,9,10]]\n",
    "red_wine_data.shape"
   ]
  },
  {
   "cell_type": "code",
   "execution_count": 3,
   "id": "8a31af79",
   "metadata": {},
   "outputs": [],
   "source": [
    "#data split\n",
    "from sklearn.model_selection import train_test_split\n",
    "X_train_red, X_test_red, y_train_red, y_test_red = train_test_split(red_wine_data, red_wine_label, test_size=0.35, random_state=42)\n",
    "X_train_white, X_test_white, y_train_white, y_test_white \\\n",
    "    = train_test_split(white_wine_data, white_wine_label, test_size=0.35, random_state=42)"
   ]
  },
  {
   "cell_type": "code",
   "execution_count": 4,
   "id": "20ad2a5e",
   "metadata": {},
   "outputs": [],
   "source": [
    "def LDA_method(dataset,label,n_dim):\n",
    "    clusters = np.unique(label)\n",
    "   # print(clusters)\n",
    "    if n_dim>len(clusters)-1:\n",
    "        print(\"error!\")\n",
    "        return\n",
    "    #cal Sw\n",
    "    Sw = np.zeros((dataset.shape[1],dataset.shape[1]))\n",
    "    for i in clusters:\n",
    "        datai = dataset[label == i]\n",
    "        datai = datai-datai.mean(0)\n",
    "        Swi = np.dot(datai.T,datai)\n",
    "        Sw += Swi\n",
    "    #cal SB\n",
    "    SB=np.zeros((dataset.shape[1],dataset.shape[1]))\n",
    "    for i in clusters:\n",
    "        m=dataset.mean(0)\n",
    "        Ni = dataset[label == i].shape[0]\n",
    "       # print(Ni)\n",
    "        mi = dataset[label == i].mean(0)  #某个类别的平均值\n",
    "        SBi = Ni*np.dot((mi - m).T,(mi - m))\n",
    "        SB += SBi\n",
    "    S = np.linalg.inv(Sw)*SB\n",
    "    eigVals,eigVects = np.linalg.eig(S)  #求特征值，特征向量\n",
    "    eigValInd = np.argsort(eigVals)\n",
    "    eigValInd = eigValInd[:(-n_dim-1):-1]\n",
    "    w = eigVects[:,eigValInd]\n",
    "    data_ndim = np.dot(dataset, w)\n",
    "    return data_ndim"
   ]
  },
  {
   "cell_type": "code",
   "execution_count": 5,
   "id": "9bed2a6a",
   "metadata": {},
   "outputs": [],
   "source": [
    "def PCA_method(dataset,n_dim):\n",
    "    n=dataset.shape[0]\n",
    "    m=dataset.mean(0)\n",
    "    S=np.zeros((dataset.shape[1],dataset.shape[1]))\n",
    "    for i in range(0,n):\n",
    "       # print((dataset[i]-m).shape)\n",
    "        Si=np.outer((dataset[i]-m),(dataset[i]-m).T)\n",
    "       # print(np.outer((dataset[i]-m),(dataset[i]-m).T).shape)\n",
    "        S+=Si\n",
    "    #print(S)\n",
    "    #print(m)\n",
    "    eigVals,eigVects=np.linalg.eig(S)\n",
    "    #print(eigVals)\n",
    "    indexs_ = np.argsort(-eigVals)[:n_dim]\n",
    "    picked_eig_values = eigVals[indexs_]\n",
    "    picked_eig_vector = eigVects[:, indexs_]\n",
    "    #print(picked_eig_vector)\n",
    "    data_ndim = np.dot(dataset-m, picked_eig_vector)\n",
    "   # print(m)\n",
    "    return data_ndim"
   ]
  },
  {
   "cell_type": "code",
   "execution_count": 6,
   "id": "4bf865c6",
   "metadata": {},
   "outputs": [],
   "source": [
    "#降维前数据分类\n",
    "#lr using ovsall method\n",
    "def logclassfy1(dataset,label):\n",
    "    dataset=pd.DataFrame(dataset)\n",
    "    dataset['add']=1\n",
    "    #print(dataset)\n",
    "    clusters=np.unique(label)\n",
    "    weight=[]\n",
    "    #pre process data\n",
    "    #print(clusters)\n",
    "    for i in clusters:\n",
    "        label_i=[]\n",
    "        for j in range(len(dataset)):\n",
    "            if label[j]==i:\n",
    "                label_i.append(1)\n",
    "               # print(i)\n",
    "            else:\n",
    "                label_i.append(0)\n",
    "            #print(label_i)\n",
    "        #logistic regression closed-form solution\n",
    "        data_trans=np.transpose(dataset)\n",
    "        XXT=np.dot(data_trans,dataset)\n",
    "        inv=np.linalg.inv(XXT)\n",
    "        before=np.dot(inv,data_trans)\n",
    "        beta=np.dot(before,label_i)\n",
    "        weight.append(beta)\n",
    "    return weight"
   ]
  },
  {
   "cell_type": "code",
   "execution_count": 7,
   "id": "4dc13aaa",
   "metadata": {},
   "outputs": [],
   "source": [
    "#red_wine_train\n",
    "weight_red=logclassfy1(X_train_red,y_train_red)\n",
    "weight_red=np.array(weight_red)"
   ]
  },
  {
   "cell_type": "code",
   "execution_count": 8,
   "id": "a30894f3",
   "metadata": {},
   "outputs": [],
   "source": [
    "'''save the test_target'''\n",
    "import pandas as pd\n",
    "def tocsv(outputs,x,label,method):\n",
    "    test=pd.DataFrame(data=outputs)\n",
    "    test.to_csv('./{}dim-{}-{}.csv'.format(x,label,method),index=False,header=None) "
   ]
  },
  {
   "cell_type": "code",
   "execution_count": 9,
   "id": "c9f03bf7",
   "metadata": {},
   "outputs": [
    {
     "name": "stdout",
     "output_type": "stream",
     "text": [
      "0.5642857142857143\n"
     ]
    }
   ],
   "source": [
    "def judgeF(x):\n",
    "    return 1.0/(1.0+np.exp(-x))\n",
    "def envlute(para,valdata):\n",
    "    valdata=(pd.DataFrame(valdata))\n",
    "    valdata['add']=1\n",
    "    valdata=np.array(valdata)\n",
    "    #print(valdata)\n",
    "    activations = valdata.dot(para.T)\n",
    "   # print(activations)\n",
    "    p = np.empty((len(activations)))\n",
    "    for i in range(0, len(activations)):  \n",
    "        idx = np.argmax(judgeF(activations[i]))\n",
    "        p[i] = idx+3\n",
    "    return p\n",
    "ans_red=envlute(weight_red,X_test_red)\n",
    "count=0\n",
    "for i in range(len(ans_red)):\n",
    "    if ans_red[i]==y_test_red[i]:\n",
    "        count+=1\n",
    "print(count/len(ans_red))"
   ]
  },
  {
   "cell_type": "code",
   "execution_count": 10,
   "id": "58a2ef8d",
   "metadata": {},
   "outputs": [
    {
     "name": "stdout",
     "output_type": "stream",
     "text": [
      "0.5329446064139942\n"
     ]
    }
   ],
   "source": [
    "#white_wine_train\n",
    "weight_white=logclassfy1(X_train_white,y_train_white)\n",
    "weight_white=np.array(weight_white)\n",
    "ans_white=envlute(weight_white,X_test_white)\n",
    "count=0\n",
    "for i in range(len(ans_white)):\n",
    "    if ans_white[i]==y_test_white[i]:\n",
    "        count+=1\n",
    "print(count/len(ans_white))"
   ]
  },
  {
   "cell_type": "code",
   "execution_count": 11,
   "id": "13d318b9",
   "metadata": {},
   "outputs": [
    {
     "name": "stdout",
     "output_type": "stream",
     "text": [
      "red,dim=11,acc=0.5642857142857143\n",
      "white,dim=11,acc=0.5329446064139942\n",
      "red,dim=10,acc=0.5642857142857143\n",
      "white,dim=10,acc=0.5230320699708455\n",
      "red,dim=9,acc=0.5607142857142857\n",
      "white,dim=9,acc=0.5265306122448979\n",
      "red,dim=8,acc=0.5517857142857143\n",
      "white,dim=8,acc=0.4897959183673469\n",
      "red,dim=7,acc=0.5428571428571428\n",
      "white,dim=7,acc=0.49387755102040815\n",
      "red,dim=6,acc=0.5464285714285714\n",
      "white,dim=6,acc=0.5061224489795918\n",
      "red,dim=5,acc=0.5464285714285714\n",
      "white,dim=5,acc=0.5090379008746355\n",
      "red,dim=4,acc=0.4928571428571429\n",
      "white,dim=4,acc=0.5037900874635568\n",
      "red,dim=3,acc=0.4928571428571429\n",
      "white,dim=3,acc=0.446064139941691\n",
      "red,dim=2,acc=0.4928571428571429\n",
      "white,dim=2,acc=0.4501457725947522\n",
      "red,dim=1,acc=0.4714285714285714\n",
      "white,dim=1,acc=0.45481049562682213\n"
     ]
    }
   ],
   "source": [
    "#降维后进行分析PCA\n",
    "acc_P_R=[]\n",
    "acc_P_W=[]\n",
    "for i in range(11):\n",
    "    dim=11-i\n",
    "    data_dim_red=PCA_method(red_wine_data,dim)\n",
    "    X_train_red, X_test_red, y_train_red, y_test_red = train_test_split(data_dim_red, red_wine_label, test_size=0.35, random_state=42)\n",
    "    weight_red=logclassfy1(X_train_red,y_train_red)\n",
    "    weight_red=np.array(weight_red)\n",
    "    ans_red=envlute(weight_red,X_test_red)\n",
    "    count=0\n",
    "    for i in range(len(ans_red)):\n",
    "        if ans_red[i]==y_test_red[i]:\n",
    "            count+=1\n",
    "    print(\"red,dim={},acc={}\".format(dim,count/len(ans_red)))\n",
    "    acc_P_R.append(count/len(ans_red))\n",
    "    tocsv(data_dim_red,dim,'red','PCA')\n",
    "    data_dim_white=PCA_method(white_wine_data,dim)\n",
    "    X_train_white, X_test_white, y_train_white, y_test_white \\\n",
    "    = train_test_split(data_dim_white, white_wine_label, test_size=0.35, random_state=42)\n",
    "    weight_white=logclassfy1(X_train_white,y_train_white)\n",
    "    weight_white=np.array(weight_white)\n",
    "    ans_white=envlute(weight_white,X_test_white)\n",
    "    count=0\n",
    "    for i in range(len(ans_white)):\n",
    "        if ans_white[i]==y_test_white[i]:\n",
    "            count+=1\n",
    "    print(\"white,dim={},acc={}\".format(dim,count/len(ans_white)))\n",
    "    acc_P_W.append(count/len(ans_white))\n",
    "    tocsv(data_dim_white,dim,'white','PCA')"
   ]
  },
  {
   "cell_type": "code",
   "execution_count": 12,
   "id": "954587f1",
   "metadata": {},
   "outputs": [
    {
     "name": "stdout",
     "output_type": "stream",
     "text": [
      "red,dim=5,acc=0.475\n",
      "red,dim=4,acc=0.4660714285714286\n",
      "red,dim=3,acc=0.46964285714285714\n",
      "red,dim=2,acc=0.44107142857142856\n",
      "red,dim=1,acc=0.41785714285714287\n",
      "white,dim=6,acc=0.47580174927113705\n",
      "white,dim=5,acc=0.4752186588921283\n",
      "white,dim=4,acc=0.46822157434402334\n",
      "white,dim=3,acc=0.46588921282798834\n",
      "white,dim=2,acc=0.4524781341107872\n",
      "white,dim=1,acc=0.4524781341107872\n"
     ]
    }
   ],
   "source": [
    "#降维后进行分析LDA\n",
    "acc_L_R=[]\n",
    "acc_L_W=[]\n",
    "for i in range(5):\n",
    "    dim=5-i\n",
    "    data_dim_red=LDA_method(red_wine_data,red_wine_label,dim)\n",
    "    X_train_red, X_test_red, y_train_red, y_test_red = train_test_split(data_dim_red, red_wine_label, test_size=0.35, random_state=42)\n",
    "    weight_red=logclassfy1(X_train_red,y_train_red)\n",
    "    weight_red=np.array(weight_red)\n",
    "    ans_red=envlute(weight_red,X_test_red)\n",
    "    count=0\n",
    "    for i in range(len(ans_red)):\n",
    "        if ans_red[i]==y_test_red[i]:\n",
    "            count+=1\n",
    "    print(\"red,dim={},acc={}\".format(dim,count/len(ans_red)))\n",
    "    acc_L_R.append(count/len(ans_red))\n",
    "    tocsv(data_dim_white,dim,'red','LDA')\n",
    "for i in range(6):\n",
    "    dim=6-i\n",
    "    data_dim_white=LDA_method(white_wine_data,white_wine_label,dim)\n",
    "    X_train_white, X_test_white, y_train_white, y_test_white \\\n",
    "        = train_test_split(data_dim_white, white_wine_label, test_size=0.35, random_state=42)\n",
    "    weight_white=logclassfy1(X_train_white,y_train_white)\n",
    "    weight_white=np.array(weight_white)\n",
    "    ans_white=envlute(weight_white,X_test_white)\n",
    "    count=0\n",
    "    for i in range(len(ans_white)):\n",
    "        if ans_white[i]==y_test_white[i]:\n",
    "            count+=1\n",
    "    print(\"white,dim={},acc={}\".format(dim,count/len(ans_white)))\n",
    "    acc_L_W.append(count/len(ans_white))\n",
    "    tocsv(data_dim_white,dim,'white','LDA')"
   ]
  },
  {
   "cell_type": "code",
   "execution_count": 13,
   "id": "d14078ed",
   "metadata": {},
   "outputs": [
    {
     "data": {
      "text/plain": [
       "<matplotlib.legend.Legend at 0x24b0ef17970>"
      ]
     },
     "execution_count": 13,
     "metadata": {},
     "output_type": "execute_result"
    },
    {
     "data": {
      "image/png": "[encoded data removed]",
      "text/plain": [
       "<Figure size 432x288 with 1 Axes>"
      ]
     },
     "metadata": {
      "needs_background": "light"
     },
     "output_type": "display_data"
    }
   ],
   "source": [
    "import matplotlib.pyplot as plt\n",
    "plt.scatter(range(11,0,-1),acc_P_R)\n",
    "plt.xlabel(\"dim\")\n",
    "plt.ylabel(\"acc\")\n",
    "plt.scatter(range(11,0,-1),acc_P_W)   \n",
    "plt.legend([\"red_wine\", \"white_wine\"])"
   ]
  },
  {
   "cell_type": "code",
   "execution_count": 14,
   "id": "33f15d94",
   "metadata": {},
   "outputs": [
    {
     "data": {
      "text/plain": [
       "<matplotlib.legend.Legend at 0x24b0f0073d0>"
      ]
     },
     "execution_count": 14,
     "metadata": {},
     "output_type": "execute_result"
    },
    {
     "data": {
      "image/png": "[encoded data removed]",
      "text/plain": [
       "<Figure size 432x288 with 1 Axes>"
      ]
     },
     "metadata": {
      "needs_background": "light"
     },
     "output_type": "display_data"
    }
   ],
   "source": [
    "plt.scatter(range(len(acc_L_R),0,-1),acc_L_R)\n",
    "plt.scatter(range(len(acc_L_W),0,-1),acc_L_W)\n",
    "plt.xlabel(\"dim\")\n",
    "plt.ylabel(\"acc\")\n",
    "plt.legend([\"red_wine\", \"white_wine\"])"
   ]
  },
  {
   "cell_type": "code",
   "execution_count": null,
   "id": "08bcf34b",
   "metadata": {},
   "outputs": [],
   "source": []
  }
 ],
 "metadata": {
  "kernelspec": {
   "display_name": "Python 3 (ipykernel)",
   "language": "python",
   "name": "python3"
  },
  "language_info": {
   "codemirror_mode": {
    "name": "ipython",
    "version": 3
   },
   "file_extension": ".py",
   "mimetype": "text/x-python",
   "name": "python",
   "nbconvert_exporter": "python",
   "pygments_lexer": "ipython3",
   "version": "3.9.7"
  }
 },
 "nbformat": 4,
 "nbformat_minor": 5
}
