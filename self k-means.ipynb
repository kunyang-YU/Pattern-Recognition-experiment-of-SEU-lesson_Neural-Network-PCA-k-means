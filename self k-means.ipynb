{
 "cells": [
  {
   "cell_type": "code",
   "execution_count": 7,
   "id": "97063502",
   "metadata": {},
   "outputs": [],
   "source": [
    "import numpy as np\n",
    "import pandas as pd\n",
    "def e_distance(a,b):\n",
    "    ans=0\n",
    "    for i in range(len(a)):\n",
    "        ans+=np.abs(a[i]-b[i])**2\n",
    "    return np.sqrt(ans)\n",
    "def init(k_num,x_dim):\n",
    "    middle=np.random.randint(size=(k_num,x_dim),low=1,high=15,dtype=int)\n",
    "    return middle"
   ]
  },
  {
   "cell_type": "code",
   "execution_count": 8,
   "id": "b55a68a8",
   "metadata": {},
   "outputs": [],
   "source": [
    "init_middle=init(26,16)"
   ]
  },
  {
   "cell_type": "code",
   "execution_count": 9,
   "id": "89b5adc5",
   "metadata": {},
   "outputs": [
    {
     "data": {
      "text/plain": [
       "array([[ 2.,  6.,  3.,  1.,  6.,  8., 11.,  6., 13., 14.,  8., 10., 11.,\n",
       "        14.,  5.,  7.],\n",
       "       [ 6.,  5.,  1., 11.,  4., 11.,  2., 10., 11., 11.,  7.,  4., 13.,\n",
       "        11.,  4.,  2.],\n",
       "       [ 9.,  6.,  9., 14.,  4.,  5., 13., 13.,  7.,  5.,  8.,  4.,  7.,\n",
       "         5., 12., 11.],\n",
       "       [ 9.,  2., 12.,  6.,  7.,  2., 14., 13.,  7.,  4.,  5.,  2.,  8.,\n",
       "         1.,  5., 12.],\n",
       "       [ 5., 13., 12., 13.,  6.,  6., 14.,  2., 11., 13.,  3.,  3.,  1.,\n",
       "        13., 11., 11.],\n",
       "       [ 4.,  3., 10.,  1.,  5.,  2., 14.,  7.,  3.,  7., 13.,  9.,  6.,\n",
       "         7.,  5.,  1.],\n",
       "       [13., 13.,  5.,  3.,  6.,  9.,  1.,  8., 14.,  7.,  3.,  1.,  8.,\n",
       "         2.,  9.,  9.],\n",
       "       [ 1., 13., 10.,  7., 11.,  2.,  4.,  7.,  8.,  1.,  4.,  3.,  2.,\n",
       "        10., 10.,  5.],\n",
       "       [11., 13., 14., 11.,  7.,  4.,  5., 10.,  5., 10.,  6.,  1.,  6.,\n",
       "         5., 12.,  4.],\n",
       "       [12.,  5.,  7., 11., 14.,  6.,  7.,  2., 13.,  8.,  6., 10.,  8.,\n",
       "         9.,  6.,  5.],\n",
       "       [ 1.,  3., 13.,  6., 14., 10., 11., 10.,  4.,  5., 13., 11., 13.,\n",
       "        11.,  4.,  4.],\n",
       "       [10., 14., 14.,  3.,  9.,  3.,  5.,  1., 10., 12., 10., 10.,  4.,\n",
       "         9.,  7.,  9.],\n",
       "       [10.,  8., 14.,  1., 11., 12., 11., 14., 11., 10.,  5.,  3., 14.,\n",
       "         5.,  3.,  3.],\n",
       "       [13.,  9.,  6.,  6., 11.,  7.,  7., 12., 10., 13.,  4.,  5.,  5.,\n",
       "         1.,  1.,  3.],\n",
       "       [13.,  5.,  5.,  2.,  9., 13.,  5., 12.,  7.,  7.,  5.,  6., 11.,\n",
       "         4.,  6.,  1.],\n",
       "       [ 9., 14.,  4.,  7.,  7., 13.,  8.,  4.,  7.,  6.,  7.,  8.,  9.,\n",
       "         9., 14.,  2.],\n",
       "       [ 6., 10.,  3.,  1., 12.,  7.,  7., 11., 13.,  9.,  9., 14., 12.,\n",
       "        14.,  1., 10.],\n",
       "       [ 7., 12.,  9.,  9., 13.,  3., 11.,  1.,  6.,  7.,  1., 10.,  8.,\n",
       "         1., 12.,  9.],\n",
       "       [ 2.,  7.,  2.,  4.,  2., 11.,  9.,  7., 14., 14., 11.,  8.,  4.,\n",
       "        12., 12., 12.],\n",
       "       [ 4., 10.,  6., 14.,  6., 14., 12.,  5.,  6.,  9.,  7.,  1.,  3.,\n",
       "         7., 12.,  1.],\n",
       "       [12.,  4.,  9., 12.,  9., 10.,  9.,  1.,  1., 10.,  2.,  1., 13.,\n",
       "         8.,  9., 13.],\n",
       "       [ 2., 10.,  6.,  8.,  1., 14.,  5., 12.,  7., 11.,  5., 11., 13.,\n",
       "         1., 10.,  3.],\n",
       "       [ 8., 14.,  7., 12., 11.,  7.,  8.,  8., 11.,  4., 13., 10., 11.,\n",
       "        13.,  4.,  6.],\n",
       "       [ 3.,  2.,  6.,  3.,  2., 13.,  2., 12.,  6.,  3., 11., 12.,  8.,\n",
       "         7.,  9.,  5.],\n",
       "       [ 9.,  5.,  2.,  2.,  5.,  1., 11.,  9., 13., 11.,  5.,  7., 13.,\n",
       "        13., 14., 14.],\n",
       "       [ 6.,  8., 10., 14.,  7., 11.,  3.,  2., 13., 11.,  2.,  7.,  3.,\n",
       "        12.,  3., 12.]])"
      ]
     },
     "execution_count": 9,
     "metadata": {},
     "output_type": "execute_result"
    }
   ],
   "source": [
    "init_middle.astype(float)\n",
    "#init_middle=[]"
   ]
  },
  {
   "cell_type": "code",
   "execution_count": 10,
   "id": "e31ac628",
   "metadata": {},
   "outputs": [
    {
     "data": {
      "text/plain": [
       "array([[ 2.,  8.,  3., ...,  8.,  0.,  8.],\n",
       "       [ 5., 12.,  3., ...,  8.,  4., 10.],\n",
       "       [ 4., 11.,  6., ...,  7.,  3.,  9.],\n",
       "       ...,\n",
       "       [ 6.,  9.,  6., ..., 12.,  2.,  4.],\n",
       "       [ 2.,  3.,  4., ...,  9.,  5.,  8.],\n",
       "       [ 4.,  9.,  6., ...,  7.,  2.,  8.]])"
      ]
     },
     "execution_count": 10,
     "metadata": {},
     "output_type": "execute_result"
    }
   ],
   "source": [
    "#data load\n",
    "import scipy.io as scio\n",
    "letter_data = scio.loadmat('./data/le1.mat')\n",
    "letter_msg=letter_data['data']\n",
    "letter_msg=letter_msg.astype(float)\n",
    "letter_label=letter_data['label']\n",
    "def min_dis(data_X,middle):\n",
    "    min_num=1000000\n",
    "    min_index=0\n",
    "    for i in range(len(middle)):\n",
    "        if min_num>e_distance(data_X,middle[i]):\n",
    "            min_num=e_distance(data_X,middle[i])\n",
    "            min_index=i\n",
    "    return min_index\n",
    "init_middle=[]\n",
    "init_middle.append(letter_msg[0])#20\n",
    "init_middle.append(letter_msg[1])#9 \n",
    "init_middle.append(letter_msg[2])#4\n",
    "init_middle.append(letter_msg[3])#14\n",
    "init_middle.append(letter_msg[4])#7\n",
    "init_middle.append(letter_msg[5])#19\n",
    "init_middle.append(letter_msg[6])#2\n",
    "init_middle.append(letter_msg[7])#1\n",
    "init_middle.append(letter_msg[8])#10\n",
    "init_middle.append(letter_msg[9])#13\n",
    "init_middle.append(letter_msg[10])#24\n",
    "init_middle.append(letter_msg[11])#15\n",
    "init_middle.append(letter_msg[39])#5\n",
    "init_middle.append(letter_msg[107])#11\n",
    "init_middle.append(letter_msg[14])#18\n",
    "init_middle.append(letter_msg[15])#6\n",
    "init_middle.append(letter_msg[59])#12\n",
    "init_middle.append(letter_msg[17])#3\n",
    "init_middle.append(letter_msg[37])#16\n",
    "init_middle.append(letter_msg[55])#17\n",
    "init_middle.append(letter_msg[99])#21\n",
    "init_middle.append(letter_msg[21])#8\n",
    "init_middle.append(letter_msg[44])#22\n",
    "init_middle.append(letter_msg[27])#23\n",
    "init_middle.append(letter_msg[50])#25\n",
    "init_middle.append(letter_msg[151])#26\n",
    "letter_msg"
   ]
  },
  {
   "cell_type": "code",
   "execution_count": 11,
   "id": "127dd2f7",
   "metadata": {},
   "outputs": [],
   "source": [
    "def recal(middle,index_num,data):\n",
    "    for i in range(len(middle)):\n",
    "        cla_num=len(index_num[i])\n",
    "        if cla_num==0:\n",
    "            continue\n",
    "        sum_vec=np.zeros(16)\n",
    "        for j in range(len(index_num[i])):\n",
    "            sum_vec+=data[index_num[i][j]]\n",
    "        middle[i]=(sum_vec)/cla_num\n",
    "        #print(middle[i])\n",
    "    return middle"
   ]
  },
  {
   "cell_type": "code",
   "execution_count": 15,
   "id": "b5888f11",
   "metadata": {},
   "outputs": [],
   "source": [
    "#apply k means\n",
    "epoch=30\n",
    "classfi=[]\n",
    "for i in range(26):\n",
    "    classfi.append([])\n",
    "for i in range(50):\n",
    "    classfi=[]\n",
    "    for i in range(26):\n",
    "        classfi.append([])\n",
    "    for j in range(len(letter_msg)):\n",
    "        classfi[min_dis(letter_msg[j],init_middle)].append(j)\n",
    "    init_middle=recal(init_middle,classfi,letter_msg)\n"
   ]
  },
  {
   "cell_type": "code",
   "execution_count": 17,
   "id": "815c8ddd",
   "metadata": {},
   "outputs": [
    {
     "name": "stdout",
     "output_type": "stream",
     "text": [
      "[  0   0   0   0   0   0   0   0   0   0   0   0   0   0   0   0   0   0\n",
      "   0 120  21 136  48   0 141   0]\n",
      "[ 10   0   0   1   0   0   0   0   0 202   0   1   1   0   0   0   0   0\n",
      "   0   0   0   0   0   0   0   0]\n",
      "[  6 117   0 143  54  32   6  66  43  42  77   3  36  59  10  30  21 122\n",
      "  66   0   0   0   0  55   0  51]\n",
      "[  0   0   0   0   0   0   0   0   0   0   0 329   0   0   0   0   0   0\n",
      "   0   0   0   0   0   0   0   0]\n",
      "[  0   6   0  44   0   0   2  45  72   0  35   0  77  91 110  40 111  46\n",
      "   0   0  59   0  43  29   0   0]\n",
      "[  0  23   0   0  37   0   8   0   0   0   0   0   0   0   0   0   3   0\n",
      " 165   8   0   0   0  89   0 258]\n",
      "[  0 108 105  43  97   0 169  46   7   0  58   0   0   0  19   0  24  58\n",
      "  80   0  17   0   0  93   0 106]\n",
      "[249   0   0   0   0   0   0   0   0  31   0   4   0   0   0   0   0   0\n",
      "   0   0   0   0   0   0   0   1]\n",
      "[  0  88   1 104  85  18   0  59 227 159  55  89   5  30   1  37   0  66\n",
      "  70   0   0   0   0  53   0  66]\n",
      "[73 25  6 29  6  1 14  3 28  3  7 53 28  8  4  0 51 33 41  0  0  0  0  1\n",
      "  0  9]\n",
      "[ 31  80  52  59  89  57  73  48  36  58  39  59  11  14   6  35 130  60\n",
      "  79  42   9  23   3  98  92  58]\n",
      "[  0   0   0   0   0   0   0 160   0   0   0   0 163 171   0   0   0   0\n",
      "   0   0 169   0   0   0   0   0]\n",
      "[  0   0 255   0 167   0  67   0   6   0  13   2   0   0   0   0   0   0\n",
      "   0   0   0   0   0   0   0   0]\n",
      "[  0   0   1   7   0  47   0   0   7  14   0   0   0   0   3 376   0   0\n",
      "   0   0   0   9   0   0   2   1]\n",
      "[  0 117  15 145  27   2 183  53  70   6 117  19   0  12 247  11 199 174\n",
      "  37  10  51   0   1 119   0   3]\n",
      "[  0   0   2   1  48  33   0  13 230 175  24  23   0   1   0  12   0   0\n",
      "  49  12   0   0   0  59   1  87]\n",
      "[361   0   0   0   0   0   4   3   1   3   2 142  12   0  10   0  17   0\n",
      "  17   0   0   0   0   0   0   5]\n",
      "[  0   0 137   0  54   4  10  39   1   4 113   4  12  21   4   0   0   0\n",
      "  26   2 194   0   0  68  11  12]\n",
      "[  0   0  54   0   2 249   0   7   0   0  10   0   2  14   0  90   0   0\n",
      "   3 107  81  59  33   9  72   2]\n",
      "[  1 109  27 147  35   3 144  54   0  19  66  14   3  45 258  23 150 120\n",
      "  28  29  69   0   1  30   6   1]\n",
      "[  0   0   3   0   0 230   0   0   0   0   0   0   0   2   0  19   0   0\n",
      "   3 176   1 125  14   1 157   0]\n",
      "[ 25   0  20   6   0  15   8  21   1   2   2   0 230 167  13  10   3   8\n",
      "   0   2  42  19 266   0   3   0]\n",
      "[  0   0   0   0   0   0   0   0   0   0   0   0   0   0   0   0   2   0\n",
      "   0 224   7 268   0   0 204   0]\n",
      "[  6   0   0   0   0   8   0  15   0   0  17   0  65  98   1   1   0   0\n",
      "   0   1  37  89 260   0  22   0]\n",
      "[ 27  65  24  32  27  21  60  39   3   6  54  15 147  39  33  46  58  51\n",
      "  33  20  43  35  83  20  45   7]\n",
      "[ 0 28 34 44 40 55 25 63 23 23 50  4  0 11 34 73 14 20 51 43 13  1  0 63\n",
      " 30 67]\n"
     ]
    }
   ],
   "source": [
    "count=0\n",
    "middle_label=[20,9,4,14,7,19,2,1,10,13,24,15,5,11,18,6,12,3,16,17,21,8,22,23,25,26]\n",
    "real=[]\n",
    "p=0\n",
    "for i in range(26):\n",
    "    num=np.zeros(26).astype(int)\n",
    "    for j in range(len(classfi[i])):\n",
    "        num[letter_label[classfi[i][j]]-1]+=1\n",
    "    print(num)\n",
    "    real.append(np.argmax(num)+1)\n",
    "    p+=num[np.argmax(num)]\n",
    "            \n",
    "real\n",
    "for i in range(26):\n",
    "    for j in range(len(classfi[i])):\n",
    "        if letter_label[classfi[i][j]]==real[i]:\n",
    "            count+=1\n",
    "p\n",
    "k_res=np.zeros(20000)\n",
    "for i in range(26):\n",
    "    for j in range(len(classfi[i])):\n",
    "        k_res[classfi[i][j]]+=i"
   ]
  },
  {
   "cell_type": "code",
   "execution_count": 18,
   "id": "aa04cf1a",
   "metadata": {},
   "outputs": [
    {
     "data": {
      "text/plain": [
       "array([22.,  9.,  2., ..., 20.,  8., 16.])"
      ]
     },
     "execution_count": 18,
     "metadata": {},
     "output_type": "execute_result"
    }
   ],
   "source": [
    "k_res=np.zeros(20000)\n",
    "for i in range(len(classfi)):\n",
    "    for j in range(len(classfi[i])):\n",
    "        k_res[classfi[i][j]]+=i\n",
    "k_res"
   ]
  },
  {
   "cell_type": "code",
   "execution_count": 19,
   "id": "7a8da5b6",
   "metadata": {},
   "outputs": [
    {
     "name": "stdout",
     "output_type": "stream",
     "text": [
      "2699518.12698524.15744362.368857596\n"
     ]
    }
   ],
   "source": [
    "#外部指标计算\n",
    "a=0\n",
    "b=0\n",
    "c=0\n",
    "d=0\n",
    "for i in range(20000):\n",
    "    for j in range(20000):\n",
    "        if letter_label[i]==letter_label[j]:\n",
    "            if k_res[i]==k_res[j]:\n",
    "                a+=1\n",
    "            else:\n",
    "                b+=1\n",
    "        else:\n",
    "            if k_res[i]==k_res[j]:\n",
    "                c+=1\n",
    "            else:\n",
    "                d+=1\n",
    "print('{}.{}.{}.{}'.format(a,b,c,d))"
   ]
  },
  {
   "cell_type": "code",
   "execution_count": 20,
   "id": "55287d79",
   "metadata": {},
   "outputs": [
    {
     "data": {
      "text/plain": [
       "0.08668303192007913"
      ]
     },
     "execution_count": 20,
     "metadata": {},
     "output_type": "execute_result"
    }
   ],
   "source": [
    "JC=a/(a+b+c)\n",
    "JC"
   ]
  },
  {
   "cell_type": "code",
   "execution_count": 21,
   "id": "2ec25ca7",
   "metadata": {},
   "outputs": [
    {
     "data": {
      "text/plain": [
       "0.16018702426025427"
      ]
     },
     "execution_count": 21,
     "metadata": {},
     "output_type": "execute_result"
    }
   ],
   "source": [
    "FMI=np.sqrt((a/(a+b))*(a/(a+c)))\n",
    "FMI"
   ]
  },
  {
   "cell_type": "code",
   "execution_count": 22,
   "id": "85dcbba6",
   "metadata": {},
   "outputs": [
    {
     "data": {
      "text/plain": [
       "0.928892785"
      ]
     },
     "execution_count": 22,
     "metadata": {},
     "output_type": "execute_result"
    }
   ],
   "source": [
    "RI=((a+d))/(a+b+c+d)\n",
    "RI"
   ]
  },
  {
   "cell_type": "code",
   "execution_count": 23,
   "id": "5e9f5854",
   "metadata": {},
   "outputs": [
    {
     "data": {
      "text/plain": [
       "[6.527024887328189,\n",
       " 7.878055373477884,\n",
       " 7.32566556929274,\n",
       " 7.952726153597628,\n",
       " 7.245982388627218,\n",
       " 7.089305685868965,\n",
       " 6.496838246676265,\n",
       " 6.354826582120335,\n",
       " 6.920357443587514,\n",
       " 8.773145312440667,\n",
       " 7.721464238601552,\n",
       " 7.955792263449751,\n",
       " 6.875399501205076,\n",
       " 7.778520627397136,\n",
       " 7.235476033475897,\n",
       " 7.449524414548746,\n",
       " 7.611505847097344,\n",
       " 7.242065132236902,\n",
       " 7.078356736088345,\n",
       " 7.399653914475078,\n",
       " 7.55837934790766,\n",
       " 7.965223820475485,\n",
       " 7.282967384459448,\n",
       " 9.56989199557527,\n",
       " 8.795397060370018,\n",
       " 8.590700782044824]"
      ]
     },
     "execution_count": 23,
     "metadata": {},
     "output_type": "execute_result"
    }
   ],
   "source": [
    "#内部度量 init_middle储存中心点信息\n",
    "avg=[]\n",
    "for i in range(26):\n",
    "    sum_d=0\n",
    "    max_d=0\n",
    "    for j in range(len(classfi[i])):\n",
    "        for p in range(len(classfi[i])):\n",
    "            dist=e_distance(letter_msg[classfi[i][p]],letter_msg[classfi[i][j]])\n",
    "            if dist>max_d:\n",
    "                max_d=dist\n",
    "            sum_d+=dist\n",
    "    avg.append(sum_d/((len(classfi[i])-1)*len(classfi[i])))\n",
    "avg"
   ]
  },
  {
   "cell_type": "code",
   "execution_count": 24,
   "id": "de53cbfc",
   "metadata": {},
   "outputs": [
    {
     "data": {
      "text/plain": [
       "107324.17735601003"
      ]
     },
     "execution_count": 24,
     "metadata": {},
     "output_type": "execute_result"
    }
   ],
   "source": [
    "inertia=0\n",
    "for i in range(26):\n",
    "    for j in range(len(classfi[i])):\n",
    "        inertia+=e_distance(letter_msg[classfi[i][j]],init_middle[i])\n",
    "inertia"
   ]
  },
  {
   "cell_type": "code",
   "execution_count": 25,
   "id": "5fe078cd",
   "metadata": {},
   "outputs": [
    {
     "data": {
      "text/plain": [
       "2.302006682123014"
      ]
     },
     "execution_count": 25,
     "metadata": {},
     "output_type": "execute_result"
    }
   ],
   "source": [
    "DBI=0\n",
    "for i in range(26):\n",
    "    max_in=0\n",
    "    for j in range(26):\n",
    "        if i==j:\n",
    "             continue\n",
    "        else:\n",
    "            if (avg[i]+avg[j])/e_distance(init_middle[i],init_middle[j])>max_in:\n",
    "                max_in=(avg[i]+avg[j])/e_distance(init_middle[i],init_middle[j])\n",
    "    DBI+=max_in\n",
    "DBI=DBI/26\n",
    "DBI"
   ]
  },
  {
   "cell_type": "code",
   "execution_count": null,
   "id": "f3c21d37",
   "metadata": {},
   "outputs": [],
   "source": []
  }
 ],
 "metadata": {
  "kernelspec": {
   "display_name": "Python 3 (ipykernel)",
   "language": "python",
   "name": "python3"
  },
  "language_info": {
   "codemirror_mode": {
    "name": "ipython",
    "version": 3
   },
   "file_extension": ".py",
   "mimetype": "text/x-python",
   "name": "python",
   "nbconvert_exporter": "python",
   "pygments_lexer": "ipython3",
   "version": "3.9.7"
  }
 },
 "nbformat": 4,
 "nbformat_minor": 5
}
