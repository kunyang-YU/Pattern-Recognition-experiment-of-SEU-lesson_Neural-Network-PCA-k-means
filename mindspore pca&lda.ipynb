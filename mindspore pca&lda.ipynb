{
 "cells": [
  {
   "cell_type": "code",
   "execution_count": 1,
   "id": "bf8f324d-2b3b-409c-83da-77b278af5a15",
   "metadata": {},
   "outputs": [],
   "source": [
    "import os\n",
    "import csv\n",
    "import numpy as np\n",
    "#import seaborn as sns\n",
    "import pandas as pd\n",
    "import mindspore as ms\n",
    "import matplotlib.pyplot as plt\n",
    "from mindspore import nn, context\n",
    "from mindspore.ops import operations as ops\n",
    "context.set_context(mode=context.PYNATIVE_MODE, device_target=\"CPU\")"
   ]
  },
  {
   "cell_type": "code",
   "execution_count": 4,
   "id": "077975fd-5027-4cf1-9dcf-dfc5d76d194f",
   "metadata": {},
   "outputs": [],
   "source": [
    "#data load label 1 for red wine,0 for read wine \n",
    "\n",
    "red_wine_data1=pd.read_csv(\"./winequality-red.csv\",sep=';')\n",
    "red_wine_data1=np.array(red_wine_data1)\n",
    "white_wine_data1=pd.read_csv(\"./winequality-white.csv\",sep=';')\n",
    "white_wine_data1=np.array(white_wine_data1)\n",
    "red_wine_label=red_wine_data1[:,11]\n",
    "red_wine_data=red_wine_data1[:,[0,1,2,3,4,5,6,7,8,9,10]]\n",
    "white_wine_label=white_wine_data1[:,11]\n",
    "white_wine_data=white_wine_data1[:,[0,1,2,3,4,5,6,7,8,9,10]]\n",
    "from sklearn.model_selection import train_test_split\n",
    "X_train_red, X_test_red, y_train_red, y_test_red = train_test_split(red_wine_data, red_wine_label, test_size=0.35, random_state=42)\n",
    "X_train_white, X_test_white, y_train_white, y_test_white \\\n",
    "    = train_test_split(white_wine_data, white_wine_label, test_size=0.35, random_state=42)"
   ]
  },
  {
   "cell_type": "code",
   "execution_count": 23,
   "id": "0df5569a-fdbe-4392-8a33-dad6d525a9b9",
   "metadata": {},
   "outputs": [],
   "source": [
    "class PcaNet(nn.Cell):\n",
    "    def __init__(self):\n",
    "        super(PcaNet, self).__init__()\n",
    "        self.reduce_mean = ops.ReduceMean(keep_dims=True)\n",
    "        self.reshape = ops.Reshape()\n",
    "        self.matmul_a = ops.MatMul(transpose_a=True)\n",
    "        self.matmul_b = ops.MatMul(transpose_b=True)\n",
    "        self.top_k = ops.TopK(sorted=True)\n",
    "        self.gather = ops.GatherV2()\n",
    "    def construct(self, x, dim=2):\n",
    "        '''\n",
    "        x:输入矩阵\n",
    "        dim:降维之后的维度数\n",
    "        '''\n",
    "        m = X.shape[0]\n",
    "        # 计算张量的各个维度上的元素的平均值\n",
    "        mean = self.reduce_mean(x, axis=1)\n",
    "        # 去中心化\n",
    "        x_new = x - self.reshape(mean, (-1, 1))\n",
    "        # 无偏差的协方差矩阵\n",
    "        cov = self.matmul_a(x_new, x_new) / (m - 1)\n",
    "        # 计算特征分解\n",
    "        cov = cov.asnumpy()\n",
    "        e, v = np.linalg.eigh(cov)\n",
    "        # 将特征值从大到小排序，选出前dim个的index\n",
    "        e_index_sort = self.top_k(ms.Tensor(e), dim)[1]\n",
    "        # 提取前排序后dim个特征向量\n",
    "        v_new = self.gather(ms.Tensor(v), e_index_sort, 0)\n",
    "        # 降维操作\n",
    "        pca = self.matmul_b(x_new, v_new)\n",
    "        return pca\n",
    "    "
   ]
  },
  {
   "cell_type": "code",
   "execution_count": 37,
   "id": "941d0920-2e44-416f-a736-eb0f3dcd5c39",
   "metadata": {},
   "outputs": [],
   "source": [
    " def LDA_method(dataset,label,n_dim):\n",
    "        clusters = np.unique(label)\n",
    "   # print(clusters)\n",
    "        if n_dim>len(clusters)-1:\n",
    "            print(\"error!\")\n",
    "            exit(0)\n",
    "    #cal Sw\n",
    "        Sw = np.zeros((dataset.shape[1],dataset.shape[1]))\n",
    "        for i in clusters:\n",
    "            datai = dataset[label == i]\n",
    "            datai = datai-datai.mean(0)\n",
    "            Swi = np.dot(datai.T,datai)\n",
    "            Sw += Swi\n",
    "    #cal SB\n",
    "        SB=np.zeros((dataset.shape[1],dataset.shape[1]))\n",
    "        for i in clusters:\n",
    "            m=dataset.mean(0)\n",
    "            Ni = dataset[label == i].shape[0]\n",
    "       # print(Ni)\n",
    "            mi = dataset[label == i].mean(0)  #某个类别的平均值\n",
    "            SBi = Ni*np.dot((mi - m).T,(mi - m))\n",
    "            SB += SBi\n",
    "        S = np.linalg.inv(Sw)*SB\n",
    "        eigVals,eigVects = np.linalg.eig(S)  #求特征值，特征向量\n",
    "        eigValInd = np.argsort(eigVals)\n",
    "        eigValInd = eigValInd[:(-n_dim-1):-1]\n",
    "        w = eigVects[:,eigValInd]\n",
    "        data_ndim = np.dot(dataset, w)\n",
    "        return data_ndim"
   ]
  },
  {
   "cell_type": "code",
   "execution_count": 7,
   "id": "46556767-e7aa-4cf7-9929-682131e81cb8",
   "metadata": {},
   "outputs": [],
   "source": [
    "import pandas as pd\n",
    "def tocsv(outputs,x,label,method):\n",
    "    test=pd.DataFrame(data=outputs)\n",
    "    test.to_csv('./mindspore-{}dim-{}-{}.csv'.format(x,label,method),index=False,header=None) "
   ]
  },
  {
   "cell_type": "code",
   "execution_count": 8,
   "id": "2081ff90-ff49-4f36-9b9b-ef3ef7902e7e",
   "metadata": {},
   "outputs": [],
   "source": [
    "def judgeF(x):\n",
    "    return 1.0/(1.0+np.exp(-x))\n",
    "def envlute(para,valdata):\n",
    "    valdata=(pd.DataFrame(valdata))\n",
    "    valdata['add']=1\n",
    "    valdata=np.array(valdata)\n",
    "    #print(valdata)\n",
    "    activations = valdata.dot(para.T)\n",
    "   # print(activations)\n",
    "    p = np.empty((len(activations)))\n",
    "    for i in range(0, len(activations)):  \n",
    "        idx = np.argmax(judgeF(activations[i]))\n",
    "        p[i] = idx+3\n",
    "    return p"
   ]
  },
  {
   "cell_type": "code",
   "execution_count": 24,
   "id": "05e9578e-ea6d-45fa-90b2-9a69623a31ef",
   "metadata": {},
   "outputs": [],
   "source": [
    "#降维前数据分类\n",
    "#lr using ovsall method\n",
    "def logclassfy1(dataset,label):\n",
    "    dataset=pd.DataFrame(dataset)\n",
    "    dataset['add']=1\n",
    "    #print(dataset)\n",
    "    clusters=np.unique(label)\n",
    "    weight=[]\n",
    "    #pre process data\n",
    "    #print(clusters)\n",
    "    for i in clusters:\n",
    "        label_i=[]\n",
    "        for j in range(len(dataset)):\n",
    "            if label[j]==i:\n",
    "                label_i.append(1)\n",
    "               # print(i)\n",
    "            else:\n",
    "                label_i.append(0)\n",
    "            #print(label_i)\n",
    "        #logistic regression closed-form solution\n",
    "        data_trans=np.transpose(dataset)\n",
    "        XXT=np.dot(data_trans,dataset)\n",
    "        inv=np.linalg.inv(XXT)\n",
    "        before=np.dot(inv,data_trans)\n",
    "        beta=np.dot(before,label_i)\n",
    "        weight.append(beta)\n",
    "    return weight"
   ]
  },
  {
   "cell_type": "code",
   "execution_count": 25,
   "id": "09f47435-3c8e-4f0e-9bab-3ed36e067041",
   "metadata": {},
   "outputs": [
    {
     "name": "stderr",
     "output_type": "stream",
     "text": [
      "[WARNING] ME(1556:140538665869888,MainProcess):2022-06-10-20:29:55.775.535 [mindspore/common/_decorator.py:32] 'GatherV2' is deprecated from version 1.1 and will be removed in a future version, use 'Gather' instead.\n"
     ]
    },
    {
     "name": "stdout",
     "output_type": "stream",
     "text": [
      "red,dim=11,acc=0.5625\n",
      "white,dim=11,acc=0.5259475218658892\n",
      "red,dim=10,acc=0.5642857142857143\n",
      "white,dim=10,acc=0.5236151603498542\n",
      "red,dim=9,acc=0.5660714285714286\n",
      "white,dim=9,acc=0.5212827988338192\n",
      "red,dim=8,acc=0.5482142857142858\n",
      "white,dim=8,acc=0.5276967930029155\n",
      "red,dim=7,acc=0.5428571428571428\n",
      "white,dim=7,acc=0.5224489795918368\n",
      "red,dim=6,acc=0.5446428571428571\n",
      "white,dim=6,acc=0.5131195335276968\n",
      "red,dim=5,acc=0.5375\n",
      "white,dim=5,acc=0.5061224489795918\n",
      "red,dim=4,acc=0.4875\n",
      "white,dim=4,acc=0.4740524781341108\n",
      "red,dim=3,acc=0.48392857142857143\n",
      "white,dim=3,acc=0.4478134110787172\n",
      "red,dim=2,acc=0.4607142857142857\n",
      "white,dim=2,acc=0.4530612244897959\n",
      "red,dim=1,acc=0.4517857142857143\n",
      "white,dim=1,acc=0.4524781341107872\n"
     ]
    }
   ],
   "source": [
    "#降维后进行分析PCA\n",
    "acc_P_R=[]\n",
    "acc_P_W=[]\n",
    "net = PcaNet()\n",
    "for i in range(11):\n",
    "    dim=11-i\n",
    "    X=red_wine_data\n",
    "    pca_data = ms.Tensor(np.reshape(X,(X.shape[0],-1)),ms.float32)\n",
    "    pca_data = net(pca_data,dim)\n",
    "    #pca_data=np.array(pca_data)\n",
    "    data_dim_red=pca_data.asnumpy()\n",
    "    #data_dim_red=PCA_method(red_wine_data,dim)\n",
    "    X_train_red, X_test_red, y_train_red, y_test_red = train_test_split(data_dim_red, red_wine_label, test_size=0.35, random_state=42)\n",
    "    weight_red=logclassfy1(X_train_red,y_train_red)\n",
    "    weight_red=np.array(weight_red)\n",
    "    ans_red=envlute(weight_red,X_test_red)\n",
    "    count=0\n",
    "    for i in range(len(ans_red)):\n",
    "        if ans_red[i]==y_test_red[i]:\n",
    "            count+=1\n",
    "    print(\"red,dim={},acc={}\".format(dim,count/len(ans_red)))\n",
    "    acc_P_R.append(count/len(ans_red))\n",
    "    tocsv(data_dim_red,dim,'red','PCA')\n",
    "    \n",
    "    X=white_wine_data\n",
    "    pca_data = ms.Tensor(np.reshape(X,(X.shape[0],-1)),ms.float32)\n",
    "    pca_data = net(pca_data,dim)\n",
    "    #pca_data=np.array(pca_data)\n",
    "    data_dim_white=pca_data.asnumpy()\n",
    "    #data_dim_white=PCA_method(white_wine_data,dim)\n",
    "    X_train_white, X_test_white, y_train_white, y_test_white \\\n",
    "    = train_test_split(data_dim_white, white_wine_label, test_size=0.35, random_state=42)\n",
    "    weight_white=logclassfy1(X_train_white,y_train_white)\n",
    "    weight_white=np.array(weight_white)\n",
    "    ans_white=envlute(weight_white,X_test_white)\n",
    "    count=0\n",
    "    for i in range(len(ans_white)):\n",
    "        if ans_white[i]==y_test_white[i]:\n",
    "            count+=1\n",
    "    print(\"white,dim={},acc={}\".format(dim,count/len(ans_white)))\n",
    "    acc_P_W.append(count/len(ans_white))\n",
    "    tocsv(data_dim_white,dim,'white','PCA')"
   ]
  },
  {
   "cell_type": "code",
   "execution_count": 38,
   "id": "9e2c70ad-8b20-49d3-8f12-20551d891730",
   "metadata": {},
   "outputs": [
    {
     "name": "stdout",
     "output_type": "stream",
     "text": [
      "red,dim=5,acc=0.475\n",
      "red,dim=4,acc=0.4660714285714286\n",
      "red,dim=3,acc=0.46964285714285714\n",
      "red,dim=2,acc=0.44107142857142856\n",
      "red,dim=1,acc=0.41785714285714287\n",
      "white,dim=6,acc=0.47580174927113705\n",
      "white,dim=5,acc=0.4752186588921283\n",
      "white,dim=4,acc=0.46822157434402334\n",
      "white,dim=3,acc=0.46588921282798834\n",
      "white,dim=2,acc=0.4524781341107872\n",
      "white,dim=1,acc=0.4524781341107872\n"
     ]
    }
   ],
   "source": [
    "acc_L_R=[]\n",
    "acc_L_W=[]\n",
    "for i in range(5):\n",
    "    dim=5-i\n",
    "    data_dim_red=LDA_method(red_wine_data,red_wine_label,dim)\n",
    "    X_train_red, X_test_red, y_train_red, y_test_red = train_test_split(data_dim_red, red_wine_label, test_size=0.35, random_state=42)\n",
    "    weight_red=logclassfy1(X_train_red,y_train_red)\n",
    "    weight_red=np.array(weight_red)\n",
    "    ans_red=envlute(weight_red,X_test_red)\n",
    "    count=0\n",
    "    for i in range(len(ans_red)):\n",
    "        if ans_red[i]==y_test_red[i]:\n",
    "            count+=1\n",
    "    print(\"red,dim={},acc={}\".format(dim,count/len(ans_red)))\n",
    "    acc_L_R.append(count/len(ans_red))\n",
    "    tocsv(data_dim_white,dim,'red','LDA')\n",
    "for i in range(6):\n",
    "    dim=6-i\n",
    "    data_dim_white=LDA_method(white_wine_data,white_wine_label,dim)\n",
    "    X_train_white, X_test_white, y_train_white, y_test_white \\\n",
    "        = train_test_split(data_dim_white, white_wine_label, test_size=0.35, random_state=42)\n",
    "    weight_white=logclassfy1(X_train_white,y_train_white)\n",
    "    weight_white=np.array(weight_white)\n",
    "    ans_white=envlute(weight_white,X_test_white)\n",
    "    count=0\n",
    "    for i in range(len(ans_white)):\n",
    "        if ans_white[i]==y_test_white[i]:\n",
    "            count+=1\n",
    "    print(\"white,dim={},acc={}\".format(dim,count/len(ans_white)))\n",
    "    acc_L_W.append(count/len(ans_white))\n",
    "    tocsv(data_dim_white,dim,'white','LDA')\n"
   ]
  },
  {
   "cell_type": "code",
   "execution_count": 10,
   "id": "ce62075f-4502-40e8-954a-630a6ad48d3f",
   "metadata": {},
   "outputs": [],
   "source": [
    "def logclassfy1(dataset,label):\n",
    "    dataset=pd.DataFrame(list(dataset))\n",
    "    dataset['add']=1\n",
    "    #print(dataset)\n",
    "    clusters=np.unique(label)\n",
    "    weight=[]\n",
    "    #pre process data\n",
    "    print(clusters)\n",
    "    for i in clusters:\n",
    "        label_i=[]\n",
    "        for j in range(len(dataset)):\n",
    "            if label[j]==i:\n",
    "                label_i.append(1)\n",
    "               # print(i)\n",
    "            else:\n",
    "                label_i.append(0)\n",
    "            #print(label_i)\n",
    "        #logistic regression closed-form solution\n",
    "        data_trans=np.transpose(dataset)\n",
    "        XXT=np.dot(data_trans,dataset)\n",
    "        XXT = XXT.astype(np.float)\n",
    "        inv=np.linalg.inv(XXT)\n",
    "        before=np.dot(inv,data_trans)\n",
    "        beta=np.dot(before,label_i)\n",
    "        weight.append(beta)\n",
    "    return weight"
   ]
  },
  {
   "cell_type": "code",
   "execution_count": 13,
   "id": "ad59c069-5699-40df-a93d-83cf28f72c1c",
   "metadata": {},
   "outputs": [
    {
     "data": {
      "text/plain": [
       "<matplotlib.legend.Legend at 0x7fd10f56cc90>"
      ]
     },
     "execution_count": 13,
     "metadata": {},
     "output_type": "execute_result"
    },
    {
     "data": {
      "image/png": "[encoded data removed]",
      "text/plain": [
       "<Figure size 432x288 with 1 Axes>"
      ]
     },
     "metadata": {
      "needs_background": "light"
     },
     "output_type": "display_data"
    }
   ],
   "source": [
    "import matplotlib.pyplot as plt\n",
    "plt.scatter(range(11,0,-1),acc_P_R)\n",
    "plt.xlabel(\"dim\")\n",
    "plt.ylabel(\"acc\")\n",
    "plt.scatter(range(11,0,-1),acc_P_W)   \n",
    "plt.legend([\"red_wine\", \"white_wine\"])"
   ]
  },
  {
   "cell_type": "code",
   "execution_count": 14,
   "id": "3643d751-ea02-4fad-96ed-84bcd17a0ed1",
   "metadata": {},
   "outputs": [
    {
     "data": {
      "text/plain": [
       "<matplotlib.legend.Legend at 0x7fd10eb31210>"
      ]
     },
     "execution_count": 14,
     "metadata": {},
     "output_type": "execute_result"
    },
    {
     "data": {
      "image/png": "[encoded data removed]",
      "text/plain": [
       "<Figure size 432x288 with 1 Axes>"
      ]
     },
     "metadata": {
      "needs_background": "light"
     },
     "output_type": "display_data"
    }
   ],
   "source": [
    "plt.scatter(range(len(acc_L_R),0,-1),acc_L_R)\n",
    "plt.scatter(range(len(acc_L_W),0,-1),acc_L_W)\n",
    "plt.xlabel(\"dim\")\n",
    "plt.ylabel(\"acc\")\n",
    "plt.legend([\"red_wine\", \"white_wine\"])"
   ]
  }
 ],
 "metadata": {
  "kernelspec": {
   "display_name": "Python 3 (ipykernel)",
   "language": "python",
   "name": "python3"
  },
  "language_info": {
   "codemirror_mode": {
    "name": "ipython",
    "version": 3
   },
   "file_extension": ".py",
   "mimetype": "text/x-python",
   "name": "python",
   "nbconvert_exporter": "python",
   "pygments_lexer": "ipython3",
   "version": "3.9.7"
  }
 },
 "nbformat": 4,
 "nbformat_minor": 5
}
