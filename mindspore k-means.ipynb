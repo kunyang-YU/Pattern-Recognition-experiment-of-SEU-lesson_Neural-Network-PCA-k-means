{
 "cells": [
  {
   "cell_type": "code",
   "execution_count": 1,
   "id": "204bbe33",
   "metadata": {},
   "outputs": [],
   "source": [
    "from collections import defaultdict\n",
    "from random import uniform\n",
    "from math import sqrt\n",
    "import os\n",
    "import csv\n",
    "import numpy as np\n",
    "#import seaborn as sns\n",
    "import pandas as pd\n",
    "import mindspore as ms\n",
    "import matplotlib.pyplot as plt\n",
    "from mindspore import Tensor,nn, context\n",
    "from mindspore.ops import operations as ops\n",
    "context.set_context(mode=context.PYNATIVE_MODE, device_target=\"GPU\")\n",
    "\n",
    "\n",
    "def point_avg(points):\n",
    "    \"\"\"\n",
    "    Accepts a list of points, each with the same number of dimensions.\n",
    "    NB. points can have more dimensions than 2\n",
    "    \n",
    "    Returns a new point which is the center of all the points.\n",
    "    \"\"\"\n",
    "    dimensions = len(points[0])\n",
    "\n",
    "    new_center = []\n",
    "\n",
    "    for dimension in range(dimensions):\n",
    "        dim_sum = 0  # dimension sum\n",
    "        for p in points:\n",
    "            dim_sum += p[dimension]\n",
    "\n",
    "        # average of each dimension\n",
    "        new_center.append(dim_sum / float(len(points)))\n",
    "\n",
    "    return new_center\n",
    "\n",
    "\n",
    "def update_centers(data_set, assignments):\n",
    "    \"\"\"\n",
    "    Accepts a dataset and a list of assignments; the indexes \n",
    "    of both lists correspond to each other.\n",
    "    Compute the center for each of the assigned groups.\n",
    "    Return `k` centers where `k` is the number of unique assignments.\n",
    "    \"\"\"\n",
    "    new_means = defaultdict(list)\n",
    "    centers = []\n",
    "    for assignment, point in zip(assignments, data_set):\n",
    "        new_means[assignment].append(point)\n",
    "        \n",
    "    for points in new_means.values():\n",
    "        centers.append(point_avg(points))\n",
    "\n",
    "    return centers\n",
    "\n",
    "\n",
    "def assign_points(data_points, centers):\n",
    "    \"\"\"\n",
    "    Given a data set and a list of points betweeen other points,\n",
    "    assign each point to an index that corresponds to the index\n",
    "    of the center point on it's proximity to that point. \n",
    "    Return a an array of indexes of centers that correspond to\n",
    "    an index in the data set; that is, if there are N points\n",
    "    in `data_set` the list we return will have N elements. Also\n",
    "    If there are Y points in `centers` there will be Y unique\n",
    "    possible values within the returned list.\n",
    "    \"\"\"\n",
    "    assignments = []\n",
    "    for point in data_points:\n",
    "        shortest = 100000  # positive infinity\n",
    "        shortest_index = 0\n",
    "        for i in range(len(centers)):\n",
    "            val = distance(point, centers[i])\n",
    "            if val < shortest:\n",
    "                shortest = val\n",
    "                shortest_index = i\n",
    "        assignments.append(shortest_index)\n",
    "    return assignments\n",
    "\n",
    "\n",
    "def distance(a, b):\n",
    "    \"\"\"\n",
    "    \"\"\"\n",
    "    dimensions = len(a)\n",
    "    \n",
    "    _sum = 0\n",
    "    for dimension in range(dimensions):\n",
    "        difference_sq = (a[dimension] - b[dimension]) ** 2\n",
    "        _sum += difference_sq\n",
    "    return sqrt(_sum)\n",
    "\n",
    "\n",
    "def generate_k(data_set, k):\n",
    "    \"\"\"\n",
    "    Given `data_set`, which is an array of arrays,\n",
    "    find the minimum and maximum for each coordinate, a range.\n",
    "    Generate `k` random points between the ranges.\n",
    "    Return an array of the random points within the ranges.\n",
    "    \"\"\"\n",
    "    centers = []\n",
    "    dimensions = len(data_set[0])\n",
    "    min_max = defaultdict(int)\n",
    "\n",
    "    for point in data_set:\n",
    "        for i in range(dimensions):\n",
    "            val = point[i]\n",
    "            min_key = 'min_%d' % i\n",
    "            max_key = 'max_%d' % i\n",
    "            if min_key not in min_max or val < min_max[min_key]:\n",
    "                min_max[min_key] = val\n",
    "            if max_key not in min_max or val > min_max[max_key]:\n",
    "                min_max[max_key] = val\n",
    "\n",
    "    for _k in range(k):\n",
    "        rand_point = []\n",
    "        for i in range(dimensions):\n",
    "            min_val = min_max['min_%d' % i]\n",
    "            max_val = min_max['max_%d' % i]\n",
    "            \n",
    "            rand_point.append(uniform(min_val, max_val))\n",
    "\n",
    "        centers.append(rand_point)\n",
    "\n",
    "    return centers\n",
    "\n",
    "\n",
    "def k_means(dataset, k):\n",
    "    k_points = generate_k(dataset, k)\n",
    "    assignments = assign_points(dataset, k_points)\n",
    "    old_assignments = None\n",
    "    noo=0\n",
    "    while noo<10:\n",
    "        new_centers = update_centers(dataset, assignments)\n",
    "        old_assignments = assignments\n",
    "        assignments = assign_points(dataset, new_centers)\n",
    "        noo+=1\n",
    "        print(noo)\n",
    "    return assignments\n"
   ]
  },
  {
   "cell_type": "code",
   "execution_count": 2,
   "id": "1d97d995",
   "metadata": {},
   "outputs": [
    {
     "data": {
      "text/plain": [
       "20"
      ]
     },
     "execution_count": 2,
     "metadata": {},
     "output_type": "execute_result"
    }
   ],
   "source": [
    "#data load\n",
    "import scipy.io as scio\n",
    "letter_data = scio.loadmat('./data/le1.mat')\n",
    "letter_msg=letter_data['data']\n",
    "letter_label=letter_data['label']\n",
    "letter_label[0][0]"
   ]
  },
  {
   "cell_type": "code",
   "execution_count": 3,
   "id": "e3bac6f5",
   "metadata": {},
   "outputs": [
    {
     "name": "stdout",
     "output_type": "stream",
     "text": [
      "1\n",
      "2\n",
      "3\n",
      "4\n",
      "5\n",
      "6\n",
      "7\n",
      "8\n",
      "9\n",
      "10\n"
     ]
    }
   ],
   "source": [
    "qz=k_means(letter_msg,26)"
   ]
  },
  {
   "cell_type": "code",
   "execution_count": 25,
   "id": "003cf354",
   "metadata": {},
   "outputs": [
    {
     "data": {
      "text/plain": [
       "6804.0"
      ]
     },
     "execution_count": 25,
     "metadata": {},
     "output_type": "execute_result"
    }
   ],
   "source": [
    "index=[]\n",
    "for i in range(26):\n",
    "    p=np.zeros(26)\n",
    "    index.append(p)\n",
    "for i in range(len(letter_msg)):\n",
    "    index[letter_label[i][0]-1][qz[i]]+=1\n",
    "total=0\n",
    "for i in range(26):\n",
    "    total+=max(index[i])\n",
    "total"
   ]
  },
  {
   "cell_type": "code",
   "execution_count": 20,
   "id": "145e1b50",
   "metadata": {},
   "outputs": [],
   "source": [
    "k_res=qz\n",
    "for i in range(20000):\n",
    "    k_res[i]+=1"
   ]
  },
  {
   "cell_type": "code",
   "execution_count": 21,
   "id": "db050caa",
   "metadata": {},
   "outputs": [
    {
     "name": "stdout",
     "output_type": "stream",
     "text": [
      "3309466.12088576.27938950.356663008\n"
     ]
    }
   ],
   "source": [
    "#外部指标计算\n",
    "a=0\n",
    "b=0\n",
    "c=0\n",
    "d=0\n",
    "for i in range(20000):\n",
    "    for j in range(20000):\n",
    "        if letter_label[i]==letter_label[j]:\n",
    "            if k_res[i]==k_res[j]:\n",
    "                a+=1\n",
    "            else:\n",
    "                b+=1\n",
    "        else:\n",
    "            if k_res[i]==k_res[j]:\n",
    "                c+=1\n",
    "            else:\n",
    "                d+=1\n",
    "print('{}.{}.{}.{}'.format(a,b,c,d))"
   ]
  },
  {
   "cell_type": "code",
   "execution_count": 22,
   "id": "817bd31c",
   "metadata": {},
   "outputs": [
    {
     "data": {
      "text/plain": [
       "0.07636584468068296"
      ]
     },
     "execution_count": 22,
     "metadata": {},
     "output_type": "execute_result"
    }
   ],
   "source": [
    "JC=a/(a+b+c)\n",
    "JC"
   ]
  },
  {
   "cell_type": "code",
   "execution_count": 23,
   "id": "36d27812",
   "metadata": {},
   "outputs": [
    {
     "data": {
      "text/plain": [
       "0.15087287629013182"
      ]
     },
     "execution_count": 23,
     "metadata": {},
     "output_type": "execute_result"
    }
   ],
   "source": [
    "FMI=np.sqrt((a/(a+b))*(a/(a+c)))\n",
    "FMI"
   ]
  },
  {
   "cell_type": "code",
   "execution_count": 24,
   "id": "2f6bd5e6",
   "metadata": {},
   "outputs": [
    {
     "data": {
      "text/plain": [
       "0.899931185"
      ]
     },
     "execution_count": 24,
     "metadata": {},
     "output_type": "execute_result"
    }
   ],
   "source": [
    "RI=((a+d))/(a+b+c+d)\n",
    "RI"
   ]
  },
  {
   "cell_type": "code",
   "execution_count": 27,
   "id": "545c3a84",
   "metadata": {},
   "outputs": [
    {
     "data": {
      "text/plain": [
       "0.3402"
      ]
     },
     "execution_count": 27,
     "metadata": {},
     "output_type": "execute_result"
    }
   ],
   "source": [
    "purity=total/20000\n",
    "purity"
   ]
  },
  {
   "cell_type": "code",
   "execution_count": null,
   "id": "e5f7f8df",
   "metadata": {},
   "outputs": [],
   "source": []
  }
 ],
 "metadata": {
  "kernelspec": {
   "display_name": "Python 3 (ipykernel)",
   "language": "python",
   "name": "python3"
  },
  "language_info": {
   "codemirror_mode": {
    "name": "ipython",
    "version": 3
   },
   "file_extension": ".py",
   "mimetype": "text/x-python",
   "name": "python",
   "nbconvert_exporter": "python",
   "pygments_lexer": "ipython3",
   "version": "3.9.7"
  }
 },
 "nbformat": 4,
 "nbformat_minor": 5
}
